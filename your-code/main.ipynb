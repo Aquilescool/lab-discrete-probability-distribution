{
 "cells": [
  {
   "cell_type": "markdown",
   "metadata": {},
   "source": [
    "# Before your start:\n",
    "\n",
    "    Read the README.md file\n",
    "    Comment as much as you can and use the resources (README.md file)\n",
    "    Happy learning!\n",
    "\n",
    "*Notes:* \n",
    "\n",
    "- Solve the questions with python.\n",
    "\n",
    "- Round the final answer to three decimal places."
   ]
  },
  {
   "cell_type": "markdown",
   "metadata": {},
   "source": [
    "## Bernoulli's Distribution\n",
    "\n",
    "In a basket containing 100 fruits, there are 60 apples and 40 oranges. \n",
    "\n",
    "A fruit is picked randomly from the basket. \n",
    "\n",
    "1. **What is the probability that the fruit is apple?**\n",
    "1. **What is the probability that it is an orange?**"
   ]
  },
  {
   "cell_type": "code",
   "execution_count": 35,
   "metadata": {},
   "outputs": [
    {
     "data": {
      "text/plain": [
       "<matplotlib.collections.LineCollection at 0x2a5bcc3cfc8>"
      ]
     },
     "execution_count": 35,
     "metadata": {},
     "output_type": "execute_result"
    },
    {
     "data": {
      "image/png": "[encoded data removed]",
      "text/plain": [
       "<Figure size 432x288 with 2 Axes>"
      ]
     },
     "metadata": {
      "needs_background": "light"
     },
     "output_type": "display_data"
    }
   ],
   "source": [
    "from scipy.stats import bernoulli\n",
    "import matplotlib.pyplot as plt\n",
    "import numpy as np\n",
    "fig, ax = plt.subplots(1, 2)\n",
    "#Como es un experimento con variable aleatoria que mide el número de éxitos en un experimento \n",
    "#con 2 posibilidades , ya sea éxito o fracaso.\n",
    "\n",
    "#definimos p para 1, donde la probabilidad de que salga manzana del contenedor es \n",
    "p=6/10\n",
    "#calculando el primer momento \n",
    "mean, var, skew, kurt = bernoulli.stats(p, moments='mvsk')\n",
    "#definimos la función de densidad discreta bernoulli.pmf(k,p,loc)\n",
    "#Definimos x para la distribución\n",
    "x = np.arange(bernoulli.ppf(0.01, p),bernoulli.ppf(0.99, p))\n",
    "#colacando la probabilidad discreta\n",
    "ax[0].plot(x, bernoulli.pmf(x, p), 'bo', ms=8, label='bernoulli pmf')\n",
    "ax[0].vlines(x, 0, bernoulli.pmf(x, p), colors='b', lw=5, alpha=0.5)\n",
    "\n",
    "#definiendo p para 2, donde la probabilidad que salga una naranja dentro del contenedor\n",
    "p=4/10\n",
    "ax[1].plot(x, bernoulli.pmf(x, p), 'bo', ms=8, label='bernoulli pmf')\n",
    "ax[1].vlines(x, 0, bernoulli.pmf(x, p), colors='r', lw=5, alpha=0.5)\n"
   ]
  },
  {
   "cell_type": "markdown",
   "metadata": {},
   "source": [
    "Now we take a random sample of 20 fruits from the basket. After each fruit is taken, a new fruit of the same type is replaced in the basket. Therefore, every time we are taking 1 fruit from 100 fruits. \n",
    "\n",
    "1. **What is the probability that the first 5 fruits are all apples?**\n",
    "\n",
    "1. **What is the probability that the first 5 fruits are all apples and the next 15 fruits are all oranges?**\n",
    "\n",
    "You can include the `p` and `q` probabilities you previous calculated in your solution."
   ]
  },
  {
   "cell_type": "code",
   "execution_count": 48,
   "metadata": {},
   "outputs": [
    {
     "name": "stdout",
     "output_type": "stream",
     "text": [
      "Recordad que si hay remplazo\n",
      "La probabilidad que las primeras 5 frutas sean manzanas: 0.07775999999999998\n",
      "La probabilidad que las primeras 5 frutas sean manzanas y después 15 naranjas: 8.349416423424006e-08\n"
     ]
    }
   ],
   "source": [
    "# your code here\n",
    "# Como la distribución de Bernoulli es por ensayo y en el mismo problema te menciona que hay un reemplazo, lo que haremos\n",
    "#hacer una multiplicación de las probabilidades por cada ensayo.\n",
    "# La probabilidad que las primeras 5 frutas sean manzanas después de elegir aleatoria una muestra siguiendo la proporcion es\n",
    "#la siguiente\n",
    "p_f_manzanas=(12/20)**5\n",
    "p_f_manzanas_oranges=(12/20)**5*((8/20)**15)\n",
    "\n",
    "print('Recordad que si hay remplazo')\n",
    "print('La probabilidad que las primeras 5 frutas sean manzanas:',p_f_manzanas)\n",
    "print('La probabilidad que las primeras 5 frutas sean manzanas y después 15 naranjas:',p_f_manzanas_oranges)\n"
   ]
  },
  {
   "cell_type": "markdown",
   "metadata": {},
   "source": [
    "## Binomial Distribution\n",
    "\n",
    "Similar to the above problem, this time again we randomly sample 20 fruits.\n",
    "\n",
    "**What is the probability that this time the sample contains 5 apples and 15 oranges?**\n",
    "\n",
    "Please note that this time the order of the fruits being picked does not matter."
   ]
  },
  {
   "cell_type": "code",
   "execution_count": 47,
   "metadata": {},
   "outputs": [
    {
     "name": "stdout",
     "output_type": "stream",
     "text": [
      "La probabilidad es de: 0.0016110137399917822\n"
     ]
    }
   ],
   "source": [
    "# your code here\n",
    "from scipy.stats import binom\n",
    "#como no importa el orden podemos resolverlo mediante una distrbucion binomial donde  binom.pmf(k, n, p, loc)\n",
    "#Probabilidad de que haya 5 manzanas y 15 naranjas\n",
    "#Suponiendo que se va sacando fruta por fruta hasta llegar a 20 \n",
    "\n",
    "#--------Manzanas----------#\n",
    "n=20\n",
    "k=5\n",
    "p_apples=(.6)\n",
    "\n",
    "probA = binom.cdf(k, n, p_apples)\n",
    "\n",
    "#----Naranjas-----------#\n",
    "n=20\n",
    "k=15\n",
    "p_naranjas=(.4)\n",
    "probB = binom.cdf(k, n, p_naranjas)\n",
    "\n",
    "#Multiplicamos los eventos por los axiomas de la probabilidad\n",
    "prob=probA*probB\n",
    "\n",
    "print('La probabilidad es de:',prob)\n"
   ]
  },
  {
   "cell_type": "markdown",
   "metadata": {},
   "source": [
    "In the lesson we also discussed CDF (cumulative distribution function). In the context of the above problem, **what is the probability that less than 5 fruits picked are apples?**\n",
    "\n",
    "Write the formula and calculate the probability below."
   ]
  },
  {
   "cell_type": "code",
   "execution_count": 51,
   "metadata": {},
   "outputs": [
    {
     "data": {
      "text/plain": [
       "0.6171726543871044"
      ]
     },
     "execution_count": 51,
     "metadata": {},
     "output_type": "execute_result"
    }
   ],
   "source": [
    "# your code here\n",
    "#la probabilidad de que p(x >=5) -- dist Binomial\n",
    "n=20\n",
    "k=5\n",
    "p_naranjas=(5/20)\n",
    "prob_ = binom.cdf(k, n, p_naranjas)\n",
    "prob_"
   ]
  },
  {
   "cell_type": "markdown",
   "metadata": {},
   "source": [
    "**Plot the PDF (probability distributiom function) for the above binomial distribution.**\n",
    "\n",
    "*Hint: The range of x in a binomial distribution is from `0` to `n`.*"
   ]
  },
  {
   "cell_type": "code",
   "execution_count": 53,
   "metadata": {},
   "outputs": [
    {
     "data": {
      "image/png": "[encoded data removed]",
      "text/plain": [
       "<Figure size 432x288 with 1 Axes>"
      ]
     },
     "metadata": {
      "needs_background": "light"
     },
     "output_type": "display_data"
    }
   ],
   "source": [
    "# your code here\n",
    "# Please label the axes and give a title to the plot \n",
    "\n",
    "from scipy.stats import binom\n",
    "import matplotlib.pyplot as plt\n",
    "fig, ax = plt.subplots(1, 1)\n",
    "n, p = 20, (5/20)\n",
    "mean, var, skew, kurt = binom.stats(n, p, moments='mvsk')\n",
    "x = np.arange(binom.ppf(0.01, n, p),binom.ppf(0.99, n, p))\n",
    "ax.plot(x, binom.pmf(x, n, p), 'bo', ms=8, label='binom pmf')\n",
    "ax.vlines(x, 0, binom.pmf(x, n, p), colors='b', lw=5, alpha=0.5)\n",
    "\n",
    "rv = binom(n, p)\n",
    "ax.vlines(x, 0, rv.pmf(x), colors='k', linestyles='-', lw=1,label='frozen pmf')\n",
    "ax.legend(loc='best', frameon=False)\n",
    "plt.show()\n",
    "\n"
   ]
  },
  {
   "cell_type": "markdown",
   "metadata": {},
   "source": [
    "## Poisson Distribution\n",
    "\n",
    "In this challenge you are required to use the Math library in python to solve the problems.\n",
    "\n",
    "In the UEFA champions league tournament, the average number of goals scored in a match is 2.3. \n",
    "\n",
    "**What is the probability that the number of goals scored in a match is 5?**\n",
    "\n",
    "*Hint: Use the exp() in the math library*\n",
    "\n",
    "And to calculate the factorial, you can use the following code:\n",
    "\n",
    "```python\n",
    "import math\n",
    "math.factorial(n) # n is the number you want to find the factorial of\n",
    "```"
   ]
  },
  {
   "cell_type": "code",
   "execution_count": 56,
   "metadata": {},
   "outputs": [
    {
     "data": {
      "text/plain": [
       "0.053775025581946814"
      ]
     },
     "execution_count": 56,
     "metadata": {},
     "output_type": "execute_result"
    }
   ],
   "source": [
    "# your code here \n",
    "#Podemos asumir una probabilidad de Poisson: \n",
    "#k es el número de ocurrencias del evento o fenómeno \n",
    "#n es un parámetro positivo que representa el número de veces que se espera que ocurra \n",
    "#el fenómeno durante un intervalo dado, en este ejemplo es la media\n",
    "#Usando poisson.pmf(k, mu)\n",
    "from scipy.stats import poisson\n",
    "probabilidad=poisson.pmf(5, 2.3)\n",
    "probabilidad"
   ]
  },
  {
   "cell_type": "markdown",
   "metadata": {},
   "source": [
    "**Draw a poisson probability distribution plot for the number of goals to be between 0 to 10.**"
   ]
  },
  {
   "cell_type": "code",
   "execution_count": 60,
   "metadata": {},
   "outputs": [
    {
     "data": {
      "image/png": "[encoded data removed]",
      "text/plain": [
       "<Figure size 432x288 with 1 Axes>"
      ]
     },
     "metadata": {
      "needs_background": "light"
     },
     "output_type": "display_data"
    }
   ],
   "source": [
    "# your code here\n",
    "# Please label the axes and give a title to the plot \n",
    "import matplotlib.pyplot as plt\n",
    "fig, ax = plt.subplots(1, 1)\n",
    "mu = 2.3\n",
    "mean, var, skew, kurt = poisson.stats(mu, moments='mvsk')\n",
    "x = np.arange(poisson.ppf(0.01, mu),poisson.ppf(0.99, mu))\n",
    "ax.plot(x, poisson.pmf(x, mu), 'bo', ms=8, label='poisson pmf')\n",
    "ax.vlines(x, 0, poisson.pmf(x, mu), colors='b', lw=5, alpha=0.5)\n",
    "rv = poisson(mu)\n",
    "ax.vlines(x, 0, rv.pmf(x), colors='k', linestyles='-', lw=1,label='frozen pmf')\n",
    "ax.legend(loc='best', frameon=False)\n",
    "plt.show()"
   ]
  },
  {
   "cell_type": "code",
   "execution_count": null,
   "metadata": {},
   "outputs": [],
   "source": []
  }
 ],
 "metadata": {
  "kernelspec": {
   "display_name": "Python 3",
   "language": "python",
   "name": "python3"
  },
  "language_info": {
   "codemirror_mode": {
    "name": "ipython",
    "version": 3
   },
   "file_extension": ".py",
   "mimetype": "text/x-python",
   "name": "python",
   "nbconvert_exporter": "python",
   "pygments_lexer": "ipython3",
   "version": "3.7.4"
  }
 },
 "nbformat": 4,
 "nbformat_minor": 2
}
